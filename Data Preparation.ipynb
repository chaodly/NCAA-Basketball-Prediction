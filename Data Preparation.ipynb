{
 "cells": [
  {
   "cell_type": "markdown",
   "metadata": {},
   "source": [
    "# Load Data, Data Wrangling, Train Dataset and Test Dataset Preparation"
   ]
  },
  {
   "cell_type": "code",
   "execution_count": 1,
   "metadata": {},
   "outputs": [],
   "source": [
    "import pandas as pd\n",
    "import numpy as np\n",
    "from sklearn.model_selection import cross_val_score\n",
    "from sklearn.ensemble import AdaBoostClassifier  "
   ]
  },
  {
   "cell_type": "code",
   "execution_count": 2,
   "metadata": {},
   "outputs": [
    {
     "ename": "FileNotFoundError",
     "evalue": "File b'RegularSeasonDetailedResults.csv' does not exist",
     "output_type": "error",
     "traceback": [
      "\u001b[0;31m---------------------------------------------------------------------------\u001b[0m",
      "\u001b[0;31mFileNotFoundError\u001b[0m                         Traceback (most recent call last)",
      "\u001b[0;32m<ipython-input-2-fbefe423eba3>\u001b[0m in \u001b[0;36m<module>\u001b[0;34m()\u001b[0m\n\u001b[0;32m----> 1\u001b[0;31m \u001b[0mRegularSeason_df\u001b[0m \u001b[0;34m=\u001b[0m \u001b[0mpd\u001b[0m\u001b[0;34m.\u001b[0m\u001b[0mread_csv\u001b[0m\u001b[0;34m(\u001b[0m\u001b[0;34m'RegularSeasonDetailedResults.csv'\u001b[0m\u001b[0;34m)\u001b[0m\u001b[0;34m\u001b[0m\u001b[0m\n\u001b[0m\u001b[1;32m      2\u001b[0m \u001b[0mTourney_df\u001b[0m \u001b[0;34m=\u001b[0m \u001b[0mpd\u001b[0m\u001b[0;34m.\u001b[0m\u001b[0mread_csv\u001b[0m\u001b[0;34m(\u001b[0m\u001b[0;34m'TourneyDetailedResults.csv'\u001b[0m\u001b[0;34m)\u001b[0m\u001b[0;34m\u001b[0m\u001b[0m\n",
      "\u001b[0;32m~/anaconda3/lib/python3.5/site-packages/pandas/io/parsers.py\u001b[0m in \u001b[0;36mparser_f\u001b[0;34m(filepath_or_buffer, sep, delimiter, header, names, index_col, usecols, squeeze, prefix, mangle_dupe_cols, dtype, engine, converters, true_values, false_values, skipinitialspace, skiprows, nrows, na_values, keep_default_na, na_filter, verbose, skip_blank_lines, parse_dates, infer_datetime_format, keep_date_col, date_parser, dayfirst, iterator, chunksize, compression, thousands, decimal, lineterminator, quotechar, quoting, escapechar, comment, encoding, dialect, tupleize_cols, error_bad_lines, warn_bad_lines, skipfooter, skip_footer, doublequote, delim_whitespace, as_recarray, compact_ints, use_unsigned, low_memory, buffer_lines, memory_map, float_precision)\u001b[0m\n\u001b[1;32m    703\u001b[0m                     skip_blank_lines=skip_blank_lines)\n\u001b[1;32m    704\u001b[0m \u001b[0;34m\u001b[0m\u001b[0m\n\u001b[0;32m--> 705\u001b[0;31m         \u001b[0;32mreturn\u001b[0m \u001b[0m_read\u001b[0m\u001b[0;34m(\u001b[0m\u001b[0mfilepath_or_buffer\u001b[0m\u001b[0;34m,\u001b[0m \u001b[0mkwds\u001b[0m\u001b[0;34m)\u001b[0m\u001b[0;34m\u001b[0m\u001b[0m\n\u001b[0m\u001b[1;32m    706\u001b[0m \u001b[0;34m\u001b[0m\u001b[0m\n\u001b[1;32m    707\u001b[0m     \u001b[0mparser_f\u001b[0m\u001b[0;34m.\u001b[0m\u001b[0m__name__\u001b[0m \u001b[0;34m=\u001b[0m \u001b[0mname\u001b[0m\u001b[0;34m\u001b[0m\u001b[0m\n",
      "\u001b[0;32m~/anaconda3/lib/python3.5/site-packages/pandas/io/parsers.py\u001b[0m in \u001b[0;36m_read\u001b[0;34m(filepath_or_buffer, kwds)\u001b[0m\n\u001b[1;32m    443\u001b[0m \u001b[0;34m\u001b[0m\u001b[0m\n\u001b[1;32m    444\u001b[0m     \u001b[0;31m# Create the parser.\u001b[0m\u001b[0;34m\u001b[0m\u001b[0;34m\u001b[0m\u001b[0m\n\u001b[0;32m--> 445\u001b[0;31m     \u001b[0mparser\u001b[0m \u001b[0;34m=\u001b[0m \u001b[0mTextFileReader\u001b[0m\u001b[0;34m(\u001b[0m\u001b[0mfilepath_or_buffer\u001b[0m\u001b[0;34m,\u001b[0m \u001b[0;34m**\u001b[0m\u001b[0mkwds\u001b[0m\u001b[0;34m)\u001b[0m\u001b[0;34m\u001b[0m\u001b[0m\n\u001b[0m\u001b[1;32m    446\u001b[0m \u001b[0;34m\u001b[0m\u001b[0m\n\u001b[1;32m    447\u001b[0m     \u001b[0;32mif\u001b[0m \u001b[0mchunksize\u001b[0m \u001b[0;32mor\u001b[0m \u001b[0miterator\u001b[0m\u001b[0;34m:\u001b[0m\u001b[0;34m\u001b[0m\u001b[0m\n",
      "\u001b[0;32m~/anaconda3/lib/python3.5/site-packages/pandas/io/parsers.py\u001b[0m in \u001b[0;36m__init__\u001b[0;34m(self, f, engine, **kwds)\u001b[0m\n\u001b[1;32m    812\u001b[0m             \u001b[0mself\u001b[0m\u001b[0;34m.\u001b[0m\u001b[0moptions\u001b[0m\u001b[0;34m[\u001b[0m\u001b[0;34m'has_index_names'\u001b[0m\u001b[0;34m]\u001b[0m \u001b[0;34m=\u001b[0m \u001b[0mkwds\u001b[0m\u001b[0;34m[\u001b[0m\u001b[0;34m'has_index_names'\u001b[0m\u001b[0;34m]\u001b[0m\u001b[0;34m\u001b[0m\u001b[0m\n\u001b[1;32m    813\u001b[0m \u001b[0;34m\u001b[0m\u001b[0m\n\u001b[0;32m--> 814\u001b[0;31m         \u001b[0mself\u001b[0m\u001b[0;34m.\u001b[0m\u001b[0m_make_engine\u001b[0m\u001b[0;34m(\u001b[0m\u001b[0mself\u001b[0m\u001b[0;34m.\u001b[0m\u001b[0mengine\u001b[0m\u001b[0;34m)\u001b[0m\u001b[0;34m\u001b[0m\u001b[0m\n\u001b[0m\u001b[1;32m    815\u001b[0m \u001b[0;34m\u001b[0m\u001b[0m\n\u001b[1;32m    816\u001b[0m     \u001b[0;32mdef\u001b[0m \u001b[0mclose\u001b[0m\u001b[0;34m(\u001b[0m\u001b[0mself\u001b[0m\u001b[0;34m)\u001b[0m\u001b[0;34m:\u001b[0m\u001b[0;34m\u001b[0m\u001b[0m\n",
      "\u001b[0;32m~/anaconda3/lib/python3.5/site-packages/pandas/io/parsers.py\u001b[0m in \u001b[0;36m_make_engine\u001b[0;34m(self, engine)\u001b[0m\n\u001b[1;32m   1043\u001b[0m     \u001b[0;32mdef\u001b[0m \u001b[0m_make_engine\u001b[0m\u001b[0;34m(\u001b[0m\u001b[0mself\u001b[0m\u001b[0;34m,\u001b[0m \u001b[0mengine\u001b[0m\u001b[0;34m=\u001b[0m\u001b[0;34m'c'\u001b[0m\u001b[0;34m)\u001b[0m\u001b[0;34m:\u001b[0m\u001b[0;34m\u001b[0m\u001b[0m\n\u001b[1;32m   1044\u001b[0m         \u001b[0;32mif\u001b[0m \u001b[0mengine\u001b[0m \u001b[0;34m==\u001b[0m \u001b[0;34m'c'\u001b[0m\u001b[0;34m:\u001b[0m\u001b[0;34m\u001b[0m\u001b[0m\n\u001b[0;32m-> 1045\u001b[0;31m             \u001b[0mself\u001b[0m\u001b[0;34m.\u001b[0m\u001b[0m_engine\u001b[0m \u001b[0;34m=\u001b[0m \u001b[0mCParserWrapper\u001b[0m\u001b[0;34m(\u001b[0m\u001b[0mself\u001b[0m\u001b[0;34m.\u001b[0m\u001b[0mf\u001b[0m\u001b[0;34m,\u001b[0m \u001b[0;34m**\u001b[0m\u001b[0mself\u001b[0m\u001b[0;34m.\u001b[0m\u001b[0moptions\u001b[0m\u001b[0;34m)\u001b[0m\u001b[0;34m\u001b[0m\u001b[0m\n\u001b[0m\u001b[1;32m   1046\u001b[0m         \u001b[0;32melse\u001b[0m\u001b[0;34m:\u001b[0m\u001b[0;34m\u001b[0m\u001b[0m\n\u001b[1;32m   1047\u001b[0m             \u001b[0;32mif\u001b[0m \u001b[0mengine\u001b[0m \u001b[0;34m==\u001b[0m \u001b[0;34m'python'\u001b[0m\u001b[0;34m:\u001b[0m\u001b[0;34m\u001b[0m\u001b[0m\n",
      "\u001b[0;32m~/anaconda3/lib/python3.5/site-packages/pandas/io/parsers.py\u001b[0m in \u001b[0;36m__init__\u001b[0;34m(self, src, **kwds)\u001b[0m\n\u001b[1;32m   1682\u001b[0m         \u001b[0mkwds\u001b[0m\u001b[0;34m[\u001b[0m\u001b[0;34m'allow_leading_cols'\u001b[0m\u001b[0;34m]\u001b[0m \u001b[0;34m=\u001b[0m \u001b[0mself\u001b[0m\u001b[0;34m.\u001b[0m\u001b[0mindex_col\u001b[0m \u001b[0;32mis\u001b[0m \u001b[0;32mnot\u001b[0m \u001b[0;32mFalse\u001b[0m\u001b[0;34m\u001b[0m\u001b[0m\n\u001b[1;32m   1683\u001b[0m \u001b[0;34m\u001b[0m\u001b[0m\n\u001b[0;32m-> 1684\u001b[0;31m         \u001b[0mself\u001b[0m\u001b[0;34m.\u001b[0m\u001b[0m_reader\u001b[0m \u001b[0;34m=\u001b[0m \u001b[0mparsers\u001b[0m\u001b[0;34m.\u001b[0m\u001b[0mTextReader\u001b[0m\u001b[0;34m(\u001b[0m\u001b[0msrc\u001b[0m\u001b[0;34m,\u001b[0m \u001b[0;34m**\u001b[0m\u001b[0mkwds\u001b[0m\u001b[0;34m)\u001b[0m\u001b[0;34m\u001b[0m\u001b[0m\n\u001b[0m\u001b[1;32m   1685\u001b[0m \u001b[0;34m\u001b[0m\u001b[0m\n\u001b[1;32m   1686\u001b[0m         \u001b[0;31m# XXX\u001b[0m\u001b[0;34m\u001b[0m\u001b[0;34m\u001b[0m\u001b[0m\n",
      "\u001b[0;32mpandas/_libs/parsers.pyx\u001b[0m in \u001b[0;36mpandas._libs.parsers.TextReader.__cinit__\u001b[0;34m()\u001b[0m\n",
      "\u001b[0;32mpandas/_libs/parsers.pyx\u001b[0m in \u001b[0;36mpandas._libs.parsers.TextReader._setup_parser_source\u001b[0;34m()\u001b[0m\n",
      "\u001b[0;31mFileNotFoundError\u001b[0m: File b'RegularSeasonDetailedResults.csv' does not exist"
     ]
    }
   ],
   "source": [
    "RegularSeason_df = pd.read_csv('RegularSeasonDetailedResults.csv')\n",
    "Tourney_df = pd.read_csv('TourneyDetailedResults.csv')"
   ]
  },
  {
   "cell_type": "code",
   "execution_count": 3,
   "metadata": {},
   "outputs": [
    {
     "ename": "NameError",
     "evalue": "name 'RegularSeason_df' is not defined",
     "output_type": "error",
     "traceback": [
      "\u001b[0;31m---------------------------------------------------------------------------\u001b[0m",
      "\u001b[0;31mNameError\u001b[0m                                 Traceback (most recent call last)",
      "\u001b[0;32m<ipython-input-3-8fc6ee3b5378>\u001b[0m in \u001b[0;36m<module>\u001b[0;34m()\u001b[0m\n\u001b[0;32m----> 1\u001b[0;31m \u001b[0mRegularSeason_df\u001b[0m \u001b[0;34m=\u001b[0m \u001b[0mRegularSeason_df\u001b[0m\u001b[0;34m.\u001b[0m\u001b[0mdrop\u001b[0m\u001b[0;34m(\u001b[0m\u001b[0;34m[\u001b[0m\u001b[0;34m'Season'\u001b[0m\u001b[0;34m,\u001b[0m \u001b[0;34m'Daynum'\u001b[0m\u001b[0;34m,\u001b[0m \u001b[0;34m'Wloc'\u001b[0m\u001b[0;34m,\u001b[0m \u001b[0;34m'Numot'\u001b[0m\u001b[0;34m]\u001b[0m\u001b[0;34m,\u001b[0m \u001b[0maxis\u001b[0m \u001b[0;34m=\u001b[0m \u001b[0;36m1\u001b[0m\u001b[0;34m)\u001b[0m\u001b[0;34m\u001b[0m\u001b[0m\n\u001b[0m\u001b[1;32m      2\u001b[0m \u001b[0mTourney_df\u001b[0m \u001b[0;34m=\u001b[0m \u001b[0mTourney_df\u001b[0m\u001b[0;34m.\u001b[0m\u001b[0mdrop\u001b[0m\u001b[0;34m(\u001b[0m\u001b[0;34m[\u001b[0m\u001b[0;34m'Season'\u001b[0m\u001b[0;34m,\u001b[0m \u001b[0;34m'Daynum'\u001b[0m\u001b[0;34m,\u001b[0m \u001b[0;34m'Wloc'\u001b[0m\u001b[0;34m,\u001b[0m \u001b[0;34m'Numot'\u001b[0m\u001b[0;34m]\u001b[0m\u001b[0;34m,\u001b[0m \u001b[0maxis\u001b[0m \u001b[0;34m=\u001b[0m \u001b[0;36m1\u001b[0m\u001b[0;34m)\u001b[0m\u001b[0;34m\u001b[0m\u001b[0m\n",
      "\u001b[0;31mNameError\u001b[0m: name 'RegularSeason_df' is not defined"
     ]
    }
   ],
   "source": [
    "RegularSeason_df = RegularSeason_df.drop(['Season', 'Daynum', 'Wloc', 'Numot'], axis = 1)\n",
    "Tourney_df = Tourney_df.drop(['Season', 'Daynum', 'Wloc', 'Numot'], axis = 1)"
   ]
  },
  {
   "cell_type": "code",
   "execution_count": 4,
   "metadata": {},
   "outputs": [
    {
     "ename": "NameError",
     "evalue": "name 'RegularSeason_df' is not defined",
     "output_type": "error",
     "traceback": [
      "\u001b[0;31m---------------------------------------------------------------------------\u001b[0m",
      "\u001b[0;31mNameError\u001b[0m                                 Traceback (most recent call last)",
      "\u001b[0;32m<ipython-input-4-49624f59abbd>\u001b[0m in \u001b[0;36m<module>\u001b[0;34m()\u001b[0m\n\u001b[1;32m      1\u001b[0m \u001b[0;31m# Training Data\u001b[0m\u001b[0;34m\u001b[0m\u001b[0;34m\u001b[0m\u001b[0m\n\u001b[0;32m----> 2\u001b[0;31m \u001b[0mWinLosePair_df\u001b[0m \u001b[0;34m=\u001b[0m \u001b[0mRegularSeason_df\u001b[0m\u001b[0;34m.\u001b[0m\u001b[0mappend\u001b[0m\u001b[0;34m(\u001b[0m\u001b[0mTourney_df\u001b[0m\u001b[0;34m)\u001b[0m\u001b[0;34m\u001b[0m\u001b[0m\n\u001b[0m\u001b[1;32m      3\u001b[0m \u001b[0mWinLosePair_df\u001b[0m\u001b[0;34m\u001b[0m\u001b[0m\n",
      "\u001b[0;31mNameError\u001b[0m: name 'RegularSeason_df' is not defined"
     ]
    }
   ],
   "source": [
    "# Training Data\n",
    "WinLosePair_df = RegularSeason_df.append(Tourney_df)\n",
    "WinLosePair_df"
   ]
  },
  {
   "cell_type": "code",
   "execution_count": 5,
   "metadata": {},
   "outputs": [
    {
     "ename": "NameError",
     "evalue": "name 'WinLosePair_df' is not defined",
     "output_type": "error",
     "traceback": [
      "\u001b[0;31m---------------------------------------------------------------------------\u001b[0m",
      "\u001b[0;31mNameError\u001b[0m                                 Traceback (most recent call last)",
      "\u001b[0;32m<ipython-input-5-3f9f06b13615>\u001b[0m in \u001b[0;36m<module>\u001b[0;34m()\u001b[0m\n\u001b[0;32m----> 1\u001b[0;31m \u001b[0mTrainDataOriginal_1_df\u001b[0m \u001b[0;34m=\u001b[0m \u001b[0mpd\u001b[0m\u001b[0;34m.\u001b[0m\u001b[0mDataFrame\u001b[0m\u001b[0;34m(\u001b[0m\u001b[0mWinLosePair_df\u001b[0m\u001b[0;34m[\u001b[0m                                           \u001b[0;34m[\u001b[0m\u001b[0;34m'Wfgm'\u001b[0m\u001b[0;34m,\u001b[0m \u001b[0;34m'Wfga'\u001b[0m\u001b[0;34m,\u001b[0m \u001b[0;34m'Wfgm3'\u001b[0m\u001b[0;34m,\u001b[0m \u001b[0;34m'Wfga3'\u001b[0m\u001b[0;34m,\u001b[0m \u001b[0;34m'Wftm'\u001b[0m\u001b[0;34m,\u001b[0m \u001b[0;34m'Wfta'\u001b[0m\u001b[0;34m,\u001b[0m \u001b[0;34m'Wor'\u001b[0m\u001b[0;34m,\u001b[0m \u001b[0;34m'Wdr'\u001b[0m\u001b[0;34m,\u001b[0m \u001b[0;34m'Wast'\u001b[0m\u001b[0;34m,\u001b[0m \u001b[0;34m'Wto'\u001b[0m\u001b[0;34m,\u001b[0m \u001b[0;34m'Wstl'\u001b[0m\u001b[0;34m,\u001b[0m \u001b[0;34m'Wblk'\u001b[0m\u001b[0;34m,\u001b[0m \u001b[0;34m'Wpf'\u001b[0m\u001b[0;34m,\u001b[0m                                           \u001b[0;34m'Lfgm'\u001b[0m\u001b[0;34m,\u001b[0m \u001b[0;34m'Lfga'\u001b[0m\u001b[0;34m,\u001b[0m \u001b[0;34m'Lfgm3'\u001b[0m\u001b[0;34m,\u001b[0m \u001b[0;34m'Lfga3'\u001b[0m\u001b[0;34m,\u001b[0m \u001b[0;34m'Lftm'\u001b[0m\u001b[0;34m,\u001b[0m \u001b[0;34m'Lfta'\u001b[0m\u001b[0;34m,\u001b[0m \u001b[0;34m'Lor'\u001b[0m\u001b[0;34m,\u001b[0m \u001b[0;34m'Ldr'\u001b[0m\u001b[0;34m,\u001b[0m \u001b[0;34m'Last'\u001b[0m\u001b[0;34m,\u001b[0m \u001b[0;34m'Lto'\u001b[0m\u001b[0;34m,\u001b[0m \u001b[0;34m'Lstl'\u001b[0m\u001b[0;34m,\u001b[0m \u001b[0;34m'Lblk'\u001b[0m\u001b[0;34m,\u001b[0m \u001b[0;34m'Lpf'\u001b[0m\u001b[0;34m]\u001b[0m\u001b[0;34m]\u001b[0m\u001b[0;34m)\u001b[0m\u001b[0;34m.\u001b[0m\u001b[0mrename\u001b[0m\u001b[0;34m(\u001b[0m\u001b[0mcolumns\u001b[0m \u001b[0;34m=\u001b[0m \u001b[0;34m{\u001b[0m\u001b[0;34m'Wfgm'\u001b[0m\u001b[0;34m:\u001b[0m\u001b[0;34m'fgm_x'\u001b[0m\u001b[0;34m,\u001b[0m \u001b[0;34m'Wfga'\u001b[0m\u001b[0;34m:\u001b[0m\u001b[0;34m'fga_x'\u001b[0m\u001b[0;34m,\u001b[0m \u001b[0;34m'Wfgm3'\u001b[0m\u001b[0;34m:\u001b[0m\u001b[0;34m'fgm3_x'\u001b[0m\u001b[0;34m,\u001b[0m \u001b[0;34m'Wfga3'\u001b[0m\u001b[0;34m:\u001b[0m\u001b[0;34m'fga3_x'\u001b[0m\u001b[0;34m,\u001b[0m \u001b[0;34m'Wftm'\u001b[0m\u001b[0;34m:\u001b[0m\u001b[0;34m'ftm_x'\u001b[0m\u001b[0;34m,\u001b[0m \u001b[0;34m'Wfta'\u001b[0m\u001b[0;34m:\u001b[0m\u001b[0;34m'fta_x'\u001b[0m\u001b[0;34m,\u001b[0m \u001b[0;34m'Wor'\u001b[0m\u001b[0;34m:\u001b[0m\u001b[0;34m'or_x'\u001b[0m\u001b[0;34m,\u001b[0m \u001b[0;34m'Wdr'\u001b[0m\u001b[0;34m:\u001b[0m\u001b[0;34m'dr_x'\u001b[0m\u001b[0;34m,\u001b[0m \u001b[0;34m'Wast'\u001b[0m\u001b[0;34m:\u001b[0m\u001b[0;34m'ast_x'\u001b[0m\u001b[0;34m,\u001b[0m \u001b[0;34m'Wto'\u001b[0m\u001b[0;34m:\u001b[0m\u001b[0;34m'to_x'\u001b[0m\u001b[0;34m,\u001b[0m \u001b[0;34m'Wstl'\u001b[0m\u001b[0;34m:\u001b[0m\u001b[0;34m'stl_x'\u001b[0m\u001b[0;34m,\u001b[0m \u001b[0;34m'Wblk'\u001b[0m\u001b[0;34m:\u001b[0m\u001b[0;34m'blk_x'\u001b[0m\u001b[0;34m,\u001b[0m \u001b[0;34m'Wpf'\u001b[0m\u001b[0;34m:\u001b[0m\u001b[0;34m'pf_x'\u001b[0m\u001b[0;34m,\u001b[0m                  \u001b[0;34m'Lfgm'\u001b[0m\u001b[0;34m:\u001b[0m\u001b[0;34m'fgm_y'\u001b[0m\u001b[0;34m,\u001b[0m \u001b[0;34m'Lfga'\u001b[0m\u001b[0;34m:\u001b[0m\u001b[0;34m'fga_y'\u001b[0m\u001b[0;34m,\u001b[0m \u001b[0;34m'Lfgm3'\u001b[0m\u001b[0;34m:\u001b[0m\u001b[0;34m'fgm3_y'\u001b[0m\u001b[0;34m,\u001b[0m \u001b[0;34m'Lfga3'\u001b[0m\u001b[0;34m:\u001b[0m\u001b[0;34m'fga3_y'\u001b[0m\u001b[0;34m,\u001b[0m \u001b[0;34m'Lftm'\u001b[0m\u001b[0;34m:\u001b[0m\u001b[0;34m'ftm_y'\u001b[0m\u001b[0;34m,\u001b[0m \u001b[0;34m'Lfta'\u001b[0m\u001b[0;34m:\u001b[0m\u001b[0;34m'fta_y'\u001b[0m\u001b[0;34m,\u001b[0m \u001b[0;34m'Lor'\u001b[0m\u001b[0;34m:\u001b[0m\u001b[0;34m'or_y'\u001b[0m\u001b[0;34m,\u001b[0m \u001b[0;34m'Ldr'\u001b[0m\u001b[0;34m:\u001b[0m\u001b[0;34m'dr_y'\u001b[0m\u001b[0;34m,\u001b[0m \u001b[0;34m'Last'\u001b[0m\u001b[0;34m:\u001b[0m\u001b[0;34m'ast_y'\u001b[0m\u001b[0;34m,\u001b[0m \u001b[0;34m'Lto'\u001b[0m\u001b[0;34m:\u001b[0m\u001b[0;34m'to_y'\u001b[0m\u001b[0;34m,\u001b[0m \u001b[0;34m'Lstl'\u001b[0m\u001b[0;34m:\u001b[0m\u001b[0;34m'stl_y'\u001b[0m\u001b[0;34m,\u001b[0m \u001b[0;34m'Lblk'\u001b[0m\u001b[0;34m:\u001b[0m\u001b[0;34m'blk_y'\u001b[0m\u001b[0;34m,\u001b[0m \u001b[0;34m'Lpf'\u001b[0m\u001b[0;34m:\u001b[0m\u001b[0;34m'pf_y'\u001b[0m\u001b[0;34m}\u001b[0m\u001b[0;34m)\u001b[0m\u001b[0;34m.\u001b[0m\u001b[0mreset_index\u001b[0m\u001b[0;34m(\u001b[0m\u001b[0mdrop\u001b[0m \u001b[0;34m=\u001b[0m \u001b[0;32mTrue\u001b[0m\u001b[0;34m)\u001b[0m\u001b[0;34m\u001b[0m\u001b[0m\n\u001b[0m\u001b[1;32m      2\u001b[0m \u001b[0;34m\u001b[0m\u001b[0m\n\u001b[1;32m      3\u001b[0m \u001b[0mTrainDataOriginal_2_df\u001b[0m \u001b[0;34m=\u001b[0m \u001b[0mpd\u001b[0m\u001b[0;34m.\u001b[0m\u001b[0mDataFrame\u001b[0m\u001b[0;34m(\u001b[0m\u001b[0mWinLosePair_df\u001b[0m\u001b[0;34m[\u001b[0m                                           \u001b[0;34m[\u001b[0m\u001b[0;34m'Lfgm'\u001b[0m\u001b[0;34m,\u001b[0m \u001b[0;34m'Lfga'\u001b[0m\u001b[0;34m,\u001b[0m \u001b[0;34m'Lfgm3'\u001b[0m\u001b[0;34m,\u001b[0m \u001b[0;34m'Lfga3'\u001b[0m\u001b[0;34m,\u001b[0m \u001b[0;34m'Lftm'\u001b[0m\u001b[0;34m,\u001b[0m \u001b[0;34m'Lfta'\u001b[0m\u001b[0;34m,\u001b[0m \u001b[0;34m'Lor'\u001b[0m\u001b[0;34m,\u001b[0m \u001b[0;34m'Ldr'\u001b[0m\u001b[0;34m,\u001b[0m \u001b[0;34m'Last'\u001b[0m\u001b[0;34m,\u001b[0m \u001b[0;34m'Lto'\u001b[0m\u001b[0;34m,\u001b[0m \u001b[0;34m'Lstl'\u001b[0m\u001b[0;34m,\u001b[0m \u001b[0;34m'Lblk'\u001b[0m\u001b[0;34m,\u001b[0m \u001b[0;34m'Lpf'\u001b[0m\u001b[0;34m,\u001b[0m                                           \u001b[0;34m'Wfgm'\u001b[0m\u001b[0;34m,\u001b[0m \u001b[0;34m'Wfga'\u001b[0m\u001b[0;34m,\u001b[0m \u001b[0;34m'Wfgm3'\u001b[0m\u001b[0;34m,\u001b[0m \u001b[0;34m'Wfga3'\u001b[0m\u001b[0;34m,\u001b[0m \u001b[0;34m'Wftm'\u001b[0m\u001b[0;34m,\u001b[0m \u001b[0;34m'Wfta'\u001b[0m\u001b[0;34m,\u001b[0m \u001b[0;34m'Wor'\u001b[0m\u001b[0;34m,\u001b[0m \u001b[0;34m'Wdr'\u001b[0m\u001b[0;34m,\u001b[0m \u001b[0;34m'Wast'\u001b[0m\u001b[0;34m,\u001b[0m \u001b[0;34m'Wto'\u001b[0m\u001b[0;34m,\u001b[0m \u001b[0;34m'Wstl'\u001b[0m\u001b[0;34m,\u001b[0m \u001b[0;34m'Wblk'\u001b[0m\u001b[0;34m,\u001b[0m \u001b[0;34m'Wpf'\u001b[0m\u001b[0;34m]\u001b[0m\u001b[0;34m]\u001b[0m\u001b[0;34m)\u001b[0m\u001b[0;34m.\u001b[0m\u001b[0mrename\u001b[0m\u001b[0;34m(\u001b[0m\u001b[0mcolumns\u001b[0m \u001b[0;34m=\u001b[0m \u001b[0;34m{\u001b[0m\u001b[0;34m'Lfgm'\u001b[0m\u001b[0;34m:\u001b[0m\u001b[0;34m'fgm_x'\u001b[0m\u001b[0;34m,\u001b[0m \u001b[0;34m'Lfga'\u001b[0m\u001b[0;34m:\u001b[0m\u001b[0;34m'fga_x'\u001b[0m\u001b[0;34m,\u001b[0m \u001b[0;34m'Lfgm3'\u001b[0m\u001b[0;34m:\u001b[0m\u001b[0;34m'fgm3_x'\u001b[0m\u001b[0;34m,\u001b[0m \u001b[0;34m'Lfga3'\u001b[0m\u001b[0;34m:\u001b[0m\u001b[0;34m'fga3_x'\u001b[0m\u001b[0;34m,\u001b[0m \u001b[0;34m'Lftm'\u001b[0m\u001b[0;34m:\u001b[0m\u001b[0;34m'ftm_x'\u001b[0m\u001b[0;34m,\u001b[0m \u001b[0;34m'Lfta'\u001b[0m\u001b[0;34m:\u001b[0m\u001b[0;34m'fta_x'\u001b[0m\u001b[0;34m,\u001b[0m \u001b[0;34m'Lor'\u001b[0m\u001b[0;34m:\u001b[0m\u001b[0;34m'or_x'\u001b[0m\u001b[0;34m,\u001b[0m \u001b[0;34m'Ldr'\u001b[0m\u001b[0;34m:\u001b[0m\u001b[0;34m'dr_x'\u001b[0m\u001b[0;34m,\u001b[0m \u001b[0;34m'Last'\u001b[0m\u001b[0;34m:\u001b[0m\u001b[0;34m'ast_x'\u001b[0m\u001b[0;34m,\u001b[0m \u001b[0;34m'Lto'\u001b[0m\u001b[0;34m:\u001b[0m\u001b[0;34m'to_x'\u001b[0m\u001b[0;34m,\u001b[0m \u001b[0;34m'Lstl'\u001b[0m\u001b[0;34m:\u001b[0m\u001b[0;34m'stl_x'\u001b[0m\u001b[0;34m,\u001b[0m \u001b[0;34m'Lblk'\u001b[0m\u001b[0;34m:\u001b[0m\u001b[0;34m'blk_x'\u001b[0m\u001b[0;34m,\u001b[0m \u001b[0;34m'Lpf'\u001b[0m\u001b[0;34m:\u001b[0m\u001b[0;34m'pf_x'\u001b[0m\u001b[0;34m,\u001b[0m                  \u001b[0;34m'Wfgm'\u001b[0m\u001b[0;34m:\u001b[0m\u001b[0;34m'fgm_y'\u001b[0m\u001b[0;34m,\u001b[0m \u001b[0;34m'Wfga'\u001b[0m\u001b[0;34m:\u001b[0m\u001b[0;34m'fga_y'\u001b[0m\u001b[0;34m,\u001b[0m \u001b[0;34m'Wfgm3'\u001b[0m\u001b[0;34m:\u001b[0m\u001b[0;34m'fgm3_y'\u001b[0m\u001b[0;34m,\u001b[0m \u001b[0;34m'Wfga3'\u001b[0m\u001b[0;34m:\u001b[0m\u001b[0;34m'fga3_y'\u001b[0m\u001b[0;34m,\u001b[0m \u001b[0;34m'Wftm'\u001b[0m\u001b[0;34m:\u001b[0m\u001b[0;34m'ftm_y'\u001b[0m\u001b[0;34m,\u001b[0m \u001b[0;34m'Wfta'\u001b[0m\u001b[0;34m:\u001b[0m\u001b[0;34m'fta_y'\u001b[0m\u001b[0;34m,\u001b[0m \u001b[0;34m'Wor'\u001b[0m\u001b[0;34m:\u001b[0m\u001b[0;34m'or_y'\u001b[0m\u001b[0;34m,\u001b[0m \u001b[0;34m'Wdr'\u001b[0m\u001b[0;34m:\u001b[0m\u001b[0;34m'dr_y'\u001b[0m\u001b[0;34m,\u001b[0m \u001b[0;34m'Wast'\u001b[0m\u001b[0;34m:\u001b[0m\u001b[0;34m'ast_y'\u001b[0m\u001b[0;34m,\u001b[0m \u001b[0;34m'Wto'\u001b[0m\u001b[0;34m:\u001b[0m\u001b[0;34m'to_y'\u001b[0m\u001b[0;34m,\u001b[0m \u001b[0;34m'Wstl'\u001b[0m\u001b[0;34m:\u001b[0m\u001b[0;34m'stl_y'\u001b[0m\u001b[0;34m,\u001b[0m \u001b[0;34m'Wblk'\u001b[0m\u001b[0;34m:\u001b[0m\u001b[0;34m'blk_y'\u001b[0m\u001b[0;34m,\u001b[0m \u001b[0;34m'Wpf'\u001b[0m\u001b[0;34m:\u001b[0m\u001b[0;34m'pf_y'\u001b[0m\u001b[0;34m}\u001b[0m\u001b[0;34m)\u001b[0m\u001b[0;34m.\u001b[0m\u001b[0mreset_index\u001b[0m\u001b[0;34m(\u001b[0m\u001b[0mdrop\u001b[0m \u001b[0;34m=\u001b[0m \u001b[0;32mTrue\u001b[0m\u001b[0;34m)\u001b[0m\u001b[0;34m\u001b[0m\u001b[0m\n\u001b[1;32m      4\u001b[0m \u001b[0;34m\u001b[0m\u001b[0m\n\u001b[1;32m      5\u001b[0m \u001b[0;34m\u001b[0m\u001b[0m\n",
      "\u001b[0;31mNameError\u001b[0m: name 'WinLosePair_df' is not defined"
     ]
    }
   ],
   "source": [
    "TrainDataOriginal_1_df = pd.DataFrame(WinLosePair_df[\\\n",
    "                                           ['Wfgm', 'Wfga', 'Wfgm3', 'Wfga3', 'Wftm', 'Wfta', 'Wor', 'Wdr', 'Wast', 'Wto', 'Wstl', 'Wblk', 'Wpf',\\\n",
    "                                           'Lfgm', 'Lfga', 'Lfgm3', 'Lfga3', 'Lftm', 'Lfta', 'Lor', 'Ldr', 'Last', 'Lto', 'Lstl', 'Lblk', 'Lpf']])\\\n",
    ".rename(columns = {'Wfgm':'fgm_x', 'Wfga':'fga_x', 'Wfgm3':'fgm3_x', 'Wfga3':'fga3_x', 'Wftm':'ftm_x', 'Wfta':'fta_x', 'Wor':'or_x', 'Wdr':'dr_x', 'Wast':'ast_x', 'Wto':'to_x', 'Wstl':'stl_x', 'Wblk':'blk_x', 'Wpf':'pf_x',\\\n",
    "                  'Lfgm':'fgm_y', 'Lfga':'fga_y', 'Lfgm3':'fgm3_y', 'Lfga3':'fga3_y', 'Lftm':'ftm_y', 'Lfta':'fta_y', 'Lor':'or_y', 'Ldr':'dr_y', 'Last':'ast_y', 'Lto':'to_y', 'Lstl':'stl_y', 'Lblk':'blk_y', 'Lpf':'pf_y'})\\\n",
    ".reset_index(drop = True)\n",
    "\n",
    "TrainDataOriginal_2_df = pd.DataFrame(WinLosePair_df[\\\n",
    "                                           ['Lfgm', 'Lfga', 'Lfgm3', 'Lfga3', 'Lftm', 'Lfta', 'Lor', 'Ldr', 'Last', 'Lto', 'Lstl', 'Lblk', 'Lpf',\\\n",
    "                                           'Wfgm', 'Wfga', 'Wfgm3', 'Wfga3', 'Wftm', 'Wfta', 'Wor', 'Wdr', 'Wast', 'Wto', 'Wstl', 'Wblk', 'Wpf']])\\\n",
    ".rename(columns = {'Lfgm':'fgm_x', 'Lfga':'fga_x', 'Lfgm3':'fgm3_x', 'Lfga3':'fga3_x', 'Lftm':'ftm_x', 'Lfta':'fta_x', 'Lor':'or_x', 'Ldr':'dr_x', 'Last':'ast_x', 'Lto':'to_x', 'Lstl':'stl_x', 'Lblk':'blk_x', 'Lpf':'pf_x',\\\n",
    "                  'Wfgm':'fgm_y', 'Wfga':'fga_y', 'Wfgm3':'fgm3_y', 'Wfga3':'fga3_y', 'Wftm':'ftm_y', 'Wfta':'fta_y', 'Wor':'or_y', 'Wdr':'dr_y', 'Wast':'ast_y', 'Wto':'to_y', 'Wstl':'stl_y', 'Wblk':'blk_y', 'Wpf':'pf_y'})\\\n",
    ".reset_index(drop = True)\n",
    "\n",
    "\n",
    "TrainData_df = TrainDataOriginal_1_df.append(TrainDataOriginal_2_df).reset_index(drop = True)\n",
    "TrainData = TrainData_df.values\n",
    "TrainLabel = np.ones((155100))\n",
    "TrainLabel[77550:] = 2"
   ]
  },
  {
   "cell_type": "code",
   "execution_count": 6,
   "metadata": {},
   "outputs": [
    {
     "ename": "FileNotFoundError",
     "evalue": "File b'2018.csv' does not exist",
     "output_type": "error",
     "traceback": [
      "\u001b[0;31m---------------------------------------------------------------------------\u001b[0m",
      "\u001b[0;31mFileNotFoundError\u001b[0m                         Traceback (most recent call last)",
      "\u001b[0;32m<ipython-input-6-ef048d57573c>\u001b[0m in \u001b[0;36m<module>\u001b[0;34m()\u001b[0m\n\u001b[1;32m      1\u001b[0m \u001b[0;31m# Test Data\u001b[0m\u001b[0;34m\u001b[0m\u001b[0;34m\u001b[0m\u001b[0m\n\u001b[0;32m----> 2\u001b[0;31m \u001b[0mSeason2018_df\u001b[0m \u001b[0;34m=\u001b[0m \u001b[0mpd\u001b[0m\u001b[0;34m.\u001b[0m\u001b[0mread_csv\u001b[0m\u001b[0;34m(\u001b[0m\u001b[0;34m'2018.csv'\u001b[0m\u001b[0;34m)\u001b[0m\u001b[0;34m\u001b[0m\u001b[0m\n\u001b[0m\u001b[1;32m      3\u001b[0m \u001b[0mSeason2018_df\u001b[0m\u001b[0;34m\u001b[0m\u001b[0m\n",
      "\u001b[0;32m~/anaconda3/lib/python3.5/site-packages/pandas/io/parsers.py\u001b[0m in \u001b[0;36mparser_f\u001b[0;34m(filepath_or_buffer, sep, delimiter, header, names, index_col, usecols, squeeze, prefix, mangle_dupe_cols, dtype, engine, converters, true_values, false_values, skipinitialspace, skiprows, nrows, na_values, keep_default_na, na_filter, verbose, skip_blank_lines, parse_dates, infer_datetime_format, keep_date_col, date_parser, dayfirst, iterator, chunksize, compression, thousands, decimal, lineterminator, quotechar, quoting, escapechar, comment, encoding, dialect, tupleize_cols, error_bad_lines, warn_bad_lines, skipfooter, skip_footer, doublequote, delim_whitespace, as_recarray, compact_ints, use_unsigned, low_memory, buffer_lines, memory_map, float_precision)\u001b[0m\n\u001b[1;32m    703\u001b[0m                     skip_blank_lines=skip_blank_lines)\n\u001b[1;32m    704\u001b[0m \u001b[0;34m\u001b[0m\u001b[0m\n\u001b[0;32m--> 705\u001b[0;31m         \u001b[0;32mreturn\u001b[0m \u001b[0m_read\u001b[0m\u001b[0;34m(\u001b[0m\u001b[0mfilepath_or_buffer\u001b[0m\u001b[0;34m,\u001b[0m \u001b[0mkwds\u001b[0m\u001b[0;34m)\u001b[0m\u001b[0;34m\u001b[0m\u001b[0m\n\u001b[0m\u001b[1;32m    706\u001b[0m \u001b[0;34m\u001b[0m\u001b[0m\n\u001b[1;32m    707\u001b[0m     \u001b[0mparser_f\u001b[0m\u001b[0;34m.\u001b[0m\u001b[0m__name__\u001b[0m \u001b[0;34m=\u001b[0m \u001b[0mname\u001b[0m\u001b[0;34m\u001b[0m\u001b[0m\n",
      "\u001b[0;32m~/anaconda3/lib/python3.5/site-packages/pandas/io/parsers.py\u001b[0m in \u001b[0;36m_read\u001b[0;34m(filepath_or_buffer, kwds)\u001b[0m\n\u001b[1;32m    443\u001b[0m \u001b[0;34m\u001b[0m\u001b[0m\n\u001b[1;32m    444\u001b[0m     \u001b[0;31m# Create the parser.\u001b[0m\u001b[0;34m\u001b[0m\u001b[0;34m\u001b[0m\u001b[0m\n\u001b[0;32m--> 445\u001b[0;31m     \u001b[0mparser\u001b[0m \u001b[0;34m=\u001b[0m \u001b[0mTextFileReader\u001b[0m\u001b[0;34m(\u001b[0m\u001b[0mfilepath_or_buffer\u001b[0m\u001b[0;34m,\u001b[0m \u001b[0;34m**\u001b[0m\u001b[0mkwds\u001b[0m\u001b[0;34m)\u001b[0m\u001b[0;34m\u001b[0m\u001b[0m\n\u001b[0m\u001b[1;32m    446\u001b[0m \u001b[0;34m\u001b[0m\u001b[0m\n\u001b[1;32m    447\u001b[0m     \u001b[0;32mif\u001b[0m \u001b[0mchunksize\u001b[0m \u001b[0;32mor\u001b[0m \u001b[0miterator\u001b[0m\u001b[0;34m:\u001b[0m\u001b[0;34m\u001b[0m\u001b[0m\n",
      "\u001b[0;32m~/anaconda3/lib/python3.5/site-packages/pandas/io/parsers.py\u001b[0m in \u001b[0;36m__init__\u001b[0;34m(self, f, engine, **kwds)\u001b[0m\n\u001b[1;32m    812\u001b[0m             \u001b[0mself\u001b[0m\u001b[0;34m.\u001b[0m\u001b[0moptions\u001b[0m\u001b[0;34m[\u001b[0m\u001b[0;34m'has_index_names'\u001b[0m\u001b[0;34m]\u001b[0m \u001b[0;34m=\u001b[0m \u001b[0mkwds\u001b[0m\u001b[0;34m[\u001b[0m\u001b[0;34m'has_index_names'\u001b[0m\u001b[0;34m]\u001b[0m\u001b[0;34m\u001b[0m\u001b[0m\n\u001b[1;32m    813\u001b[0m \u001b[0;34m\u001b[0m\u001b[0m\n\u001b[0;32m--> 814\u001b[0;31m         \u001b[0mself\u001b[0m\u001b[0;34m.\u001b[0m\u001b[0m_make_engine\u001b[0m\u001b[0;34m(\u001b[0m\u001b[0mself\u001b[0m\u001b[0;34m.\u001b[0m\u001b[0mengine\u001b[0m\u001b[0;34m)\u001b[0m\u001b[0;34m\u001b[0m\u001b[0m\n\u001b[0m\u001b[1;32m    815\u001b[0m \u001b[0;34m\u001b[0m\u001b[0m\n\u001b[1;32m    816\u001b[0m     \u001b[0;32mdef\u001b[0m \u001b[0mclose\u001b[0m\u001b[0;34m(\u001b[0m\u001b[0mself\u001b[0m\u001b[0;34m)\u001b[0m\u001b[0;34m:\u001b[0m\u001b[0;34m\u001b[0m\u001b[0m\n",
      "\u001b[0;32m~/anaconda3/lib/python3.5/site-packages/pandas/io/parsers.py\u001b[0m in \u001b[0;36m_make_engine\u001b[0;34m(self, engine)\u001b[0m\n\u001b[1;32m   1043\u001b[0m     \u001b[0;32mdef\u001b[0m \u001b[0m_make_engine\u001b[0m\u001b[0;34m(\u001b[0m\u001b[0mself\u001b[0m\u001b[0;34m,\u001b[0m \u001b[0mengine\u001b[0m\u001b[0;34m=\u001b[0m\u001b[0;34m'c'\u001b[0m\u001b[0;34m)\u001b[0m\u001b[0;34m:\u001b[0m\u001b[0;34m\u001b[0m\u001b[0m\n\u001b[1;32m   1044\u001b[0m         \u001b[0;32mif\u001b[0m \u001b[0mengine\u001b[0m \u001b[0;34m==\u001b[0m \u001b[0;34m'c'\u001b[0m\u001b[0;34m:\u001b[0m\u001b[0;34m\u001b[0m\u001b[0m\n\u001b[0;32m-> 1045\u001b[0;31m             \u001b[0mself\u001b[0m\u001b[0;34m.\u001b[0m\u001b[0m_engine\u001b[0m \u001b[0;34m=\u001b[0m \u001b[0mCParserWrapper\u001b[0m\u001b[0;34m(\u001b[0m\u001b[0mself\u001b[0m\u001b[0;34m.\u001b[0m\u001b[0mf\u001b[0m\u001b[0;34m,\u001b[0m \u001b[0;34m**\u001b[0m\u001b[0mself\u001b[0m\u001b[0;34m.\u001b[0m\u001b[0moptions\u001b[0m\u001b[0;34m)\u001b[0m\u001b[0;34m\u001b[0m\u001b[0m\n\u001b[0m\u001b[1;32m   1046\u001b[0m         \u001b[0;32melse\u001b[0m\u001b[0;34m:\u001b[0m\u001b[0;34m\u001b[0m\u001b[0m\n\u001b[1;32m   1047\u001b[0m             \u001b[0;32mif\u001b[0m \u001b[0mengine\u001b[0m \u001b[0;34m==\u001b[0m \u001b[0;34m'python'\u001b[0m\u001b[0;34m:\u001b[0m\u001b[0;34m\u001b[0m\u001b[0m\n",
      "\u001b[0;32m~/anaconda3/lib/python3.5/site-packages/pandas/io/parsers.py\u001b[0m in \u001b[0;36m__init__\u001b[0;34m(self, src, **kwds)\u001b[0m\n\u001b[1;32m   1682\u001b[0m         \u001b[0mkwds\u001b[0m\u001b[0;34m[\u001b[0m\u001b[0;34m'allow_leading_cols'\u001b[0m\u001b[0;34m]\u001b[0m \u001b[0;34m=\u001b[0m \u001b[0mself\u001b[0m\u001b[0;34m.\u001b[0m\u001b[0mindex_col\u001b[0m \u001b[0;32mis\u001b[0m \u001b[0;32mnot\u001b[0m \u001b[0;32mFalse\u001b[0m\u001b[0;34m\u001b[0m\u001b[0m\n\u001b[1;32m   1683\u001b[0m \u001b[0;34m\u001b[0m\u001b[0m\n\u001b[0;32m-> 1684\u001b[0;31m         \u001b[0mself\u001b[0m\u001b[0;34m.\u001b[0m\u001b[0m_reader\u001b[0m \u001b[0;34m=\u001b[0m \u001b[0mparsers\u001b[0m\u001b[0;34m.\u001b[0m\u001b[0mTextReader\u001b[0m\u001b[0;34m(\u001b[0m\u001b[0msrc\u001b[0m\u001b[0;34m,\u001b[0m \u001b[0;34m**\u001b[0m\u001b[0mkwds\u001b[0m\u001b[0;34m)\u001b[0m\u001b[0;34m\u001b[0m\u001b[0m\n\u001b[0m\u001b[1;32m   1685\u001b[0m \u001b[0;34m\u001b[0m\u001b[0m\n\u001b[1;32m   1686\u001b[0m         \u001b[0;31m# XXX\u001b[0m\u001b[0;34m\u001b[0m\u001b[0;34m\u001b[0m\u001b[0m\n",
      "\u001b[0;32mpandas/_libs/parsers.pyx\u001b[0m in \u001b[0;36mpandas._libs.parsers.TextReader.__cinit__\u001b[0;34m()\u001b[0m\n",
      "\u001b[0;32mpandas/_libs/parsers.pyx\u001b[0m in \u001b[0;36mpandas._libs.parsers.TextReader._setup_parser_source\u001b[0;34m()\u001b[0m\n",
      "\u001b[0;31mFileNotFoundError\u001b[0m: File b'2018.csv' does not exist"
     ]
    }
   ],
   "source": [
    "# Test Data\n",
    "Season2018_df = pd.read_csv('2018.csv')\n",
    "Season2018_df"
   ]
  },
  {
   "cell_type": "code",
   "execution_count": 7,
   "metadata": {},
   "outputs": [
    {
     "ename": "NameError",
     "evalue": "name 'TrainData' is not defined",
     "output_type": "error",
     "traceback": [
      "\u001b[0;31m---------------------------------------------------------------------------\u001b[0m",
      "\u001b[0;31mNameError\u001b[0m                                 Traceback (most recent call last)",
      "\u001b[0;32m<ipython-input-7-b53bcef4cf6d>\u001b[0m in \u001b[0;36m<module>\u001b[0;34m()\u001b[0m\n\u001b[1;32m      1\u001b[0m \u001b[0mclf\u001b[0m \u001b[0;34m=\u001b[0m \u001b[0mAdaBoostClassifier\u001b[0m\u001b[0;34m(\u001b[0m\u001b[0mn_estimators\u001b[0m\u001b[0;34m=\u001b[0m\u001b[0;36m100\u001b[0m\u001b[0;34m)\u001b[0m\u001b[0;34m\u001b[0m\u001b[0m\n\u001b[0;32m----> 2\u001b[0;31m \u001b[0mscores\u001b[0m \u001b[0;34m=\u001b[0m \u001b[0mcross_val_score\u001b[0m\u001b[0;34m(\u001b[0m\u001b[0mclf\u001b[0m\u001b[0;34m,\u001b[0m \u001b[0mTrainData\u001b[0m\u001b[0;34m,\u001b[0m \u001b[0mTrainLabel\u001b[0m\u001b[0;34m)\u001b[0m\u001b[0;34m\u001b[0m\u001b[0m\n\u001b[0m\u001b[1;32m      3\u001b[0m \u001b[0mscores\u001b[0m\u001b[0;34m.\u001b[0m\u001b[0mmean\u001b[0m\u001b[0;34m(\u001b[0m\u001b[0;34m)\u001b[0m\u001b[0;34m\u001b[0m\u001b[0m\n",
      "\u001b[0;31mNameError\u001b[0m: name 'TrainData' is not defined"
     ]
    }
   ],
   "source": [
    "clf = AdaBoostClassifier(n_estimators=100)\n",
    "scores = cross_val_score(clf, TrainData, TrainLabel)\n",
    "scores.mean() "
   ]
  },
  {
   "cell_type": "code",
   "execution_count": null,
   "metadata": {},
   "outputs": [],
   "source": []
  }
 ],
 "metadata": {
  "kernelspec": {
   "display_name": "Python 3",
   "language": "python",
   "name": "python3"
  },
  "language_info": {
   "codemirror_mode": {
    "name": "ipython",
    "version": 3
   },
   "file_extension": ".py",
   "mimetype": "text/x-python",
   "name": "python",
   "nbconvert_exporter": "python",
   "pygments_lexer": "ipython3",
   "version": "3.5.4"
  }
 },
 "nbformat": 4,
 "nbformat_minor": 2
}
